{
  "nbformat": 4,
  "nbformat_minor": 0,
  "metadata": {
    "colab": {
      "provenance": []
    },
    "kernelspec": {
      "name": "python3",
      "display_name": "Python 3"
    },
    "language_info": {
      "name": "python"
    }
  },
  "cells": [
    {
      "cell_type": "markdown",
      "source": [
        "# **Q2)**"
      ],
      "metadata": {
        "id": "zObBWmKXIHKr"
      }
    },
    {
      "cell_type": "markdown",
      "source": [
        "# i) Code the gradient descent algorithm for ridge regression."
      ],
      "metadata": {
        "id": "OT14rfdzIM3Y"
      }
    },
    {
      "cell_type": "code",
      "execution_count": 2,
      "metadata": {
        "id": "BNik7jITxS38"
      },
      "outputs": [],
      "source": [
        "from matplotlib import pyplot as plt \n",
        "import pandas as pd\n",
        "import numpy as np\n",
        "\n",
        "df = np.loadtxt('/content/drive/MyDrive/Summers/A2Data_train.csv', delimiter=',')\n",
        "data = df\n",
        "x_train = data[:,0:100]\n",
        "y_train = data[:, 100]\n",
        "df2 = np.loadtxt('/content/drive/MyDrive/Summers/A2Data_test.csv', delimiter=',')\n",
        "\n",
        "data2 = df2\n",
        "x_test = data2[:,0:100]\n",
        "y_test = data2[:, 100]"
      ]
    },
    {
      "cell_type": "code",
      "source": [
        "w = np.dot(np.linalg.inv(np.dot(x_train.T, x_train)), np.dot(x_train.T, y_train))"
      ],
      "metadata": {
        "id": "r7ALLI9Ex8fk"
      },
      "execution_count": 3,
      "outputs": []
    },
    {
      "cell_type": "code",
      "source": [
        "import numpy as np\n",
        "import matplotlib.pyplot as plt\n",
        "\n",
        "# Define the Ridge cost function and its gradient\n",
        "def ridge_cost(x, y, w, lambda_):\n",
        "    m = x.shape[0]\n",
        "    y_pred = np.dot(x, w)\n",
        "    # return np.sum((y_pred - y)**2) / (2*m) + (lambda_ * np.sum(w**2))\n",
        "    return np.sum((y_pred - y)**2) / (2*m)\n",
        "\n",
        "def ridge_gradient(x, y, w, lambda_):\n",
        "    m = x.shape[0]\n",
        "    y_pred = np.dot(x, w)\n",
        "    return np.dot(x.T, np.dot(x,w) - y) / m + (2 * lambda_ * w)\n",
        "def ridge_regression(x,y,lambda_):\n",
        "    alpha = 0.01\n",
        "    num_iterations = 1000\n",
        "    w_new = np.random.rand(x.shape[1])\n",
        "\n",
        "    # Initialize an array to store the cost at each iteration\n",
        "    cost_history = np.zeros(num_iterations)\n",
        "    diff_history = np.zeros(num_iterations)\n",
        "    for i in range(num_iterations):\n",
        "        w_new = w_new - alpha * ridge_gradient(x, y, w_new, lambda_)\n",
        "        cost_history[i] = ridge_cost(x, y, w_new, lambda_)\n",
        "        diff_history[i] = np.linalg.norm(w_new - w)\n",
        "        \n",
        "    return w_new,cost_history\n"
      ],
      "metadata": {
        "id": "c6p1h-1u-2xl"
      },
      "execution_count": 4,
      "outputs": []
    },
    {
      "cell_type": "markdown",
      "source": [
        "# ii) Cross validation and testing"
      ],
      "metadata": {
        "id": "MMQ_I8jNIaP8"
      }
    },
    {
      "cell_type": "code",
      "source": [
        "from sklearn.metrics import r2_score\n",
        "from sklearn.metrics import mean_squared_error  \n",
        "K = 10\n",
        "fold_size = len(x_train)//K\n",
        "def k_fold(x_train, y_train,L):\n",
        "    mse_K_fold = []\n",
        "    r2_K_fold = []\n",
        "    np.random.seed(42)\n",
        "    shuffle_indices = np.random.permutation(len(x_train))\n",
        "    X_train_shuffled = x_train[shuffle_indices]\n",
        "    y_train_shuffled = y_train[shuffle_indices]\n",
        "    for i in range(K):\n",
        "        start = i * fold_size\n",
        "        end = (i + 1) * fold_size\n",
        "        X_valid = X_train_shuffled[start:end]\n",
        "        y_valid = y_train_shuffled[start:end]\n",
        "        X_train_part = np.concatenate([X_train_shuffled[:start], X_train_shuffled[end:]])\n",
        "        y_train_part = np.concatenate([y_train_shuffled[:start], y_train_shuffled[end:]])\n",
        "        w,cost= ridge_regression(X_train_part,y_train_part,L)\n",
        "        y_pred = np.dot(X_valid,w)\n",
        "        mse_K_fold.append(mean_squared_error(y_valid, y_pred))\n",
        "    mse_avg = sum(mse_K_fold)/len(mse_K_fold)\n",
        "    return mse_avg\n"
      ],
      "metadata": {
        "id": "es3OCqwMzOxc"
      },
      "execution_count": 5,
      "outputs": []
    },
    {
      "cell_type": "code",
      "source": [
        "mse_lambda = []\n",
        "L_value = np.arange(0,1,0.05)\n",
        "for lamda in L_value:\n",
        "    print(\"Lambda: \",lamda)\n",
        "    mse = k_fold(x_train,y_train,lamda)\n",
        "    print(\"mse: \",mse)\n",
        "    mse_lambda.append(mse)"
      ],
      "metadata": {
        "colab": {
          "base_uri": "https://localhost:8080/"
        },
        "id": "lW6WLA7g29eb",
        "outputId": "e2a3fd87-bfbe-427a-8a01-6dd6547e8b2d"
      },
      "execution_count": 6,
      "outputs": [
        {
          "output_type": "stream",
          "name": "stdout",
          "text": [
            "Lambda:  0.0\n",
            "mse:  0.20991801640879384\n",
            "Lambda:  0.05\n",
            "mse:  0.13508160968871555\n",
            "Lambda:  0.1\n",
            "mse:  0.1482071391908322\n",
            "Lambda:  0.15000000000000002\n",
            "mse:  0.16586614697432606\n",
            "Lambda:  0.2\n",
            "mse:  0.17951244825741502\n",
            "Lambda:  0.25\n",
            "mse:  0.1897212887381361\n",
            "Lambda:  0.30000000000000004\n",
            "mse:  0.19761748517852815\n",
            "Lambda:  0.35000000000000003\n",
            "mse:  0.203990101211095\n",
            "Lambda:  0.4\n",
            "mse:  0.2093428342172098\n",
            "Lambda:  0.45\n",
            "mse:  0.2139989825792012\n",
            "Lambda:  0.5\n",
            "mse:  0.21817160164564697\n",
            "Lambda:  0.55\n",
            "mse:  0.22200529614534462\n",
            "Lambda:  0.6000000000000001\n",
            "mse:  0.2256009650444179\n",
            "Lambda:  0.65\n",
            "mse:  0.22903075619603008\n",
            "Lambda:  0.7000000000000001\n",
            "mse:  0.23234735798854594\n",
            "Lambda:  0.75\n",
            "mse:  0.23558994111933704\n",
            "Lambda:  0.8\n",
            "mse:  0.2387880647140826\n",
            "Lambda:  0.8500000000000001\n",
            "mse:  0.2419643108298204\n",
            "Lambda:  0.9\n",
            "mse:  0.2451361032255519\n",
            "Lambda:  0.9500000000000001\n",
            "mse:  0.2483169896869221\n"
          ]
        }
      ]
    },
    {
      "cell_type": "code",
      "source": [
        "plt.plot(L_value,mse_lambda)\n",
        "plt.xlabel(\"Lambda\")\n",
        "plt.ylabel(\"Validation Error\")\n",
        "plt.title(\"Finding the Best Lambda\")\n",
        "plt.show()"
      ],
      "metadata": {
        "colab": {
          "base_uri": "https://localhost:8080/",
          "height": 472
        },
        "id": "JjOsBfBP29lG",
        "outputId": "5cee034e-9133-4cbe-9441-26d486daa411"
      },
      "execution_count": 7,
      "outputs": [
        {
          "output_type": "display_data",
          "data": {
            "text/plain": [
              "<Figure size 640x480 with 1 Axes>"
            ],
            "image/png": "[encoded data removed]"
          },
          "metadata": {}
        }
      ]
    },
    {
      "cell_type": "markdown",
      "source": [
        "# **Minimum error is obtained for the value $0.05$**"
      ],
      "metadata": {
        "id": "0VtKs7omQ7eP"
      }
    },
    {
      "cell_type": "code",
      "source": [
        "print(x_train.shape)"
      ],
      "metadata": {
        "colab": {
          "base_uri": "https://localhost:8080/"
        },
        "id": "WOa7aUnaE3iB",
        "outputId": "1e839e14-c096-4a41-8143-ee4c8f5029e8"
      },
      "execution_count": 8,
      "outputs": [
        {
          "output_type": "stream",
          "name": "stdout",
          "text": [
            "(10000, 100)\n"
          ]
        }
      ]
    },
    {
      "cell_type": "code",
      "source": [
        "wML = np.dot(np.linalg.inv(np.dot(x_train.T, x_train)), np.dot(x_train.T, y_train))"
      ],
      "metadata": {
        "id": "60gEaWEzF7Ax"
      },
      "execution_count": 9,
      "outputs": []
    },
    {
      "cell_type": "code",
      "source": [
        "def model_analysis(w,X_train,X_test,y_train,y_test):\n",
        "  y_pred_train = np.dot(x_train, w)\n",
        "  y_pred_test = np.dot(x_test, w)\n",
        "  training_error = mean_squared_error(y_train, y_pred_train)\n",
        "  test_error = mean_squared_error(y_test, y_pred_test)\n",
        "  print(\"Training set MSE: {:.5f}\".format(training_error))\n",
        "  print(\"Test set MSE: {:.5f}\".format(test_error))"
      ],
      "metadata": {
        "id": "j0nlmWkHEkTt"
      },
      "execution_count": 10,
      "outputs": []
    },
    {
      "cell_type": "code",
      "source": [
        "print(\"Error due to ML estimation\")\n",
        "model_analysis(wML,x_train,x_test,y_train,y_test)\n",
        "wR,cost = ridge_regression(x_train,y_train,0.05)\n",
        "print(\"Error due to Ridge regression\")\n",
        "model_analysis(wR,x_train,x_test,y_train,y_test)"
      ],
      "metadata": {
        "colab": {
          "base_uri": "https://localhost:8080/"
        },
        "id": "8yATbiFzF34E",
        "outputId": "7c98fe77-1d64-4eb2-fe16-7b70be811ad4"
      },
      "execution_count": 13,
      "outputs": [
        {
          "output_type": "stream",
          "name": "stdout",
          "text": [
            "Error due to ML estimation\n",
            "Training set MSE: 0.03969\n",
            "Test set MSE: 0.37073\n",
            "Error due to Ridge regression\n",
            "Training set MSE: 0.13881\n",
            "Test set MSE: 0.23980\n"
          ]
        }
      ]
    }
  ]
}